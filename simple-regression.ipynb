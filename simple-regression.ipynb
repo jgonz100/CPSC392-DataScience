{
 "cells": [
  {
   "cell_type": "code",
   "execution_count": 9,
   "metadata": {},
   "outputs": [],
   "source": [
    "from plotnine import *\n",
    "import pandas as pd\n",
    "\n",
    "def LM(x, y):\n",
    "    # Calculating the mean for list x, y\n",
    "    x_mean = sum(x) / len(x)\n",
    "    y_mean = sum(y) / len(x)\n",
    "    \n",
    "    # Calculating (x-x_bar)(y-y_bar)\n",
    "    xy = 0\n",
    "    for (i,j) in zip(x,y):\n",
    "        x_sub = i - x_mean\n",
    "        y_sub = j - y_mean\n",
    "        xy += x_sub * y_sub\n",
    "        \n",
    "    # Calculating (x-x_bar)^2  \n",
    "    sq_x = sum((i - x_mean)**2 for i in x)\n",
    "    \n",
    "    # Calculating b1 and b0\n",
    "    b1 = xy / sq_x\n",
    "    b0 = y_mean - (b1 * x_mean)\n",
    "    \n",
    "    # Equation of best fit line\n",
    "    print(\"y = \" + str(b0) + \" \" + \"+ \" + str(b1) + \"x\")\n",
    "    \n",
    "    # Calculating predictions\n",
    "    y_hat = []\n",
    "    for i in x:\n",
    "        y_hat.append((b0 + (b1 * i)))\n",
    "    \n",
    "    # Calculating SST,SSE,SSR, and R^2\n",
    "    sst = sum((i - x_mean) ** 2 for i in x)\n",
    "    sse = 0\n",
    "    for (i, j) in zip(y, y_hat):\n",
    "        sse += (i - j) ** 2\n",
    "    ssr = sst - sse\n",
    "    r_2 = ssr / sst\n",
    "    \n",
    "    print(\"r-squared value = \" + \"{0:.2f}\".format(r_2))\n",
    "    \n",
    "    # Creating dataframe for plotting\n",
    "    df = pd.DataFrame(list(zip(x, y, y_hat)), columns =['x', 'y','y_hat'])\n",
    "    return df"
   ]
  },
  {
   "cell_type": "code",
   "execution_count": 10,
   "metadata": {},
   "outputs": [],
   "source": [
    "def main():\n",
    "    df = LM([3,7,4,1,5], [7,10,6,4,8])\n",
    "    print(ggplot(df, aes(x = 'x', y = 'y')) + geom_point() + geom_line(aes(y = 'y_hat'))) "
   ]
  },
  {
   "cell_type": "code",
   "execution_count": 11,
   "metadata": {},
   "outputs": [
    {
     "name": "stdout",
     "output_type": "stream",
     "text": [
      "y = 3.2 + 0.95x\n",
      "r-squared value = 0.90\n"
     ]
    },
    {
     "data": {
      "image/png": "[encoded data removed]",
      "text/plain": [
       "<Figure size 640x480 with 1 Axes>"
      ]
     },
     "metadata": {},
     "output_type": "display_data"
    },
    {
     "name": "stdout",
     "output_type": "stream",
     "text": [
      "<ggplot: (7547320801)>\n"
     ]
    }
   ],
   "source": [
    "if __name__ == '__main__':\n",
    "    main()"
   ]
  }
 ],
 "metadata": {
  "kernelspec": {
   "display_name": "Python 3",
   "language": "python",
   "name": "python3"
  },
  "language_info": {
   "codemirror_mode": {
    "name": "ipython",
    "version": 3
   },
   "file_extension": ".py",
   "mimetype": "text/x-python",
   "name": "python",
   "nbconvert_exporter": "python",
   "pygments_lexer": "ipython3",
   "version": "3.7.4"
  }
 },
 "nbformat": 4,
 "nbformat_minor": 2
}
